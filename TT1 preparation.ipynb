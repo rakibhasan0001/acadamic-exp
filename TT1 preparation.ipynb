{
 "cells": [
  {
   "cell_type": "markdown",
   "id": "9ed16350-2900-4ef8-b564-c477c2cffb6a",
   "metadata": {},
   "source": [
    "Q: Define a dictionary-type variable that consist of the name of several\n",
    "person as its key and their age in year, height in centimeter , and weight in \n",
    "in kilograms(a float) as its value in list.For example , an item of the dictionary is a list of the form \"Mr. Alex\":[65,180,80.25].write a python \n",
    "program that prints the data in the aforesaid dictionary type variable\n",
    "with arbitrary length. For better marks, make the presentation and alignment\n",
    "of the items in of the item in the printing as user-readable and precise as \n",
    "possible."
   ]
  },
  {
   "cell_type": "code",
   "execution_count": 5,
   "id": "03cf706b-c1a0-4221-8383-856f89e69445",
   "metadata": {},
   "outputs": [
    {
     "name": "stdout",
     "output_type": "stream",
     "text": [
      "Name         Age (Years)  Height (cm)  Weight (kg)\n",
      "------------------------------------------------\n"
     ]
    }
   ],
   "source": [
    "print(f\"{'Name':<12} {'Age (Years)':<12} {'Height (cm)':<12} {'Weight (kg)':<3}\")\n",
    "print(48*\"-\")"
   ]
  },
  {
   "cell_type": "code",
   "execution_count": 6,
   "id": "f2bf1c9a-8218-401b-8b85-c01d6fa649f2",
   "metadata": {},
   "outputs": [
    {
     "name": "stdout",
     "output_type": "stream",
     "text": [
      "Left Alignement           Center Alignement           Right Alignement\n"
     ]
    }
   ],
   "source": [
    "# input string for all the 3 types of alignments\n",
    "leftAlign = \"Left Alignement\"\n",
    "centerAlign = \"Center Alignement\"\n",
    "rightAlign = \"Right Alignement\"\n",
    "\n",
    "# printing the resultant aligned text using the <,^, > symbols \n",
    "print(f\"{leftAlign : <25}{centerAlign : ^20}{rightAlign : >25}\")"
   ]
  },
  {
   "cell_type": "code",
   "execution_count": 7,
   "id": "5b09572e-72b8-46b9-a331-431af220c837",
   "metadata": {},
   "outputs": [
    {
     "name": "stdout",
     "output_type": "stream",
     "text": [
      "Left Alignment: Tutorialspoint                \n",
      "Right Alignment:                 Tutorialspoint\n",
      "Center Alignment:         Tutorialspoint        \n"
     ]
    }
   ],
   "source": [
    "# input text\n",
    "inputText = 'Tutorialspoint'\n",
    " \n",
    "# left aligning the text of a width of 30\n",
    "print(\"Left Alignment:\", inputText.ljust(30))\n",
    " \n",
    "# right aligning the text of a width of 30\n",
    "print(\"Right Alignment:\", inputText.rjust(30))\n",
    " \n",
    "# center aligning the text of a width of 30\n",
    "print(\"Center Alignment:\", inputText.center(30))"
   ]
  },
  {
   "cell_type": "code",
   "execution_count": 8,
   "id": "5c69c8dc-92b5-475e-84e9-9005e696e139",
   "metadata": {
    "scrolled": true
   },
   "outputs": [
    {
     "name": "stdout",
     "output_type": "stream",
     "text": [
      "Name         Age (Years)  Height (cm)  Weight (kg) \n",
      "------------------------------------------------\n",
      "Mr. Alex     65           180          80.25       \n",
      "Ms. Jane     28           165          60.50       \n",
      "Dr. Smith    45           175          75.80       \n",
      "Mr. John     33           170          68.20       \n"
     ]
    }
   ],
   "source": [
    "# Define the dictionary with person data\n",
    "people_data = {\n",
    "    \"Mr. Alex\": [65, 180, 80.25],\n",
    "    \"Ms. Jane\": [28, 165, 60.50],\n",
    "    \"Dr. Smith\": [45, 175, 75.80],\n",
    "    \"Mr. John\": [33, 170, 68.20]\n",
    "}\n",
    "\n",
    "# Print header\n",
    "print(f\"{'Name':<12} {'Age (Years)':<12} {'Height (cm)':<12} {'Weight (kg)':<12}\")\n",
    "print(\"-\" * 48)\n",
    "\n",
    "# Here name and data use as a key and value\n",
    "# Print each person's data\n",
    "for name, data in people_data.items():\n",
    "    age, height, weight = data\n",
    "    print(f\"{name:<12} {age:<12} {height:<12} {weight:<12.2f}\")\n"
   ]
  },
  {
   "cell_type": "code",
   "execution_count": 10,
   "id": "a4a1921b-fc9f-4c86-8c60-10734ac13720",
   "metadata": {
    "scrolled": true
   },
   "outputs": [
    {
     "name": "stdin",
     "output_type": "stream",
     "text": [
      "Enter the new key:  d\n",
      "Enter the value for the key:  3\n"
     ]
    },
    {
     "name": "stdout",
     "output_type": "stream",
     "text": [
      "{'a': 1, 'b': 2, 'd': 3}\n"
     ]
    }
   ],
   "source": [
    "def Element_func(d, key, value):\n",
    "    d[key] = value\n",
    "    return d\n",
    "\n",
    "# Example usage\n",
    "d = {\"a\": 1, \"b\": 2}\n",
    "# Taking input for a new key-value pair\n",
    "key = input(\"Enter the new key: \")\n",
    "value = int(input(\"Enter the value for the key: \"))\n",
    "# Add the element using the function\n",
    "d = Element_func(d, key, value)\n",
    "\n",
    "print(d)\n"
   ]
  },
  {
   "cell_type": "code",
   "execution_count": 11,
   "id": "6497c386-c175-400b-bd5b-87b3c779e8a3",
   "metadata": {},
   "outputs": [
    {
     "name": "stdout",
     "output_type": "stream",
     "text": [
      "==============================\n",
      "available item and quantity\n",
      "==============================\n",
      "Napa                5000\n",
      "Fast                  30\n",
      "Ace                  234\n",
      "Amodies              345\n",
      "Napa Extra           432\n",
      "Napa Extend          350\n",
      "ace plus             225\n",
      "monas 10mg           450\n",
      "------------------------------\n"
     ]
    }
   ],
   "source": [
    "item_dict={\n",
    "    \"Napa\":[5000,1.75],\n",
    "    \"Fast\":[30,2],\n",
    "    \"Ace\":[234,0.87],\n",
    "    \"Amodies\":[345,2.23],\n",
    "    \"Napa Extra\":[432,2.25],\n",
    "    \"Napa Extend\":[350,3.35],\n",
    "    \"ace plus\":[225,2.23],\n",
    "    \"monas 10mg\" : [450,9.25]\n",
    "\n",
    "    }\n",
    "#print(item_dict[\"Napa\"])\n",
    "\n",
    "#self define fuction\n",
    "\n",
    "def show_dict():\n",
    "    print(30*\"=\")\n",
    "    print(\"available item and quantity\")\n",
    "    print(30*\"=\")\n",
    "    for x in item_dict: \n",
    "        print(x,(15-len(x))*\" \",(6-len(str(item_dict[x][0])))*(\" \"),item_dict[x][0])\n",
    "    print(30*\"-\")\n",
    "show_dict()\n",
    "    \n",
    "def dec_quant(key,val):\n",
    "    item_dict[key][0]-=val\n",
    "    \n",
    "def inc_quant(key,val):\n",
    "    item_dict[key][0]+=val\n",
    "def recive_order():\n",
    "    print(\"Order Recived:\")\n",
    "    \n",
    "    while True:\n",
    "        item=input(\"Item(type 'x' to stop :\")\n",
    "        if item=='x':\n",
    "            break\n",
    "        value=int(input(\"Enter quantity : \"))\n",
    "        \n",
    "        if item not in item_dict:\n",
    "            print(\"new item found\")\n",
    "            uprice=float(input(\"Unit price: \"))\n",
    "            item_dict[item]=[item,uprice]\n",
    "            continue\n",
    "            \n",
    "        inc_quant(item,value)\n",
    "        \n",
    "\n",
    "def process_demand():\n",
    "        print(\"Input Demand:\")\n",
    "        #demand_list is a empty list\n",
    "\n",
    "        demand_list=[]\n",
    "        \n",
    "        \n",
    "        while True:\n",
    "            item=input(\"Item(type 'x' to stop) :\")\n",
    "            if item=='x':\n",
    "                break\n",
    "            if item not in item_dict:\n",
    "                # Here f means formated string\n",
    "                print(f\"the item '{item}' is not available\")\n",
    "                continue\n",
    "            value=int(input(\"Enter quantity : \"))\n",
    "            # we don't want to it will print negative number\n",
    "            if value>item_dict[item][0]:\n",
    "                print(f\"total item of {item_dict[item][0]} pcs available\")\n",
    "                continue\n",
    "            \n",
    "            dec_quant(item,value)\n",
    "            \n",
    "            demand_list += [item,value,item_dict[item][1],value*item_dict[item][1]],\n",
    "\n",
    "            # printing the payment recit\n",
    "            print(40*\"=\")\n",
    "            print(\"** Payment Recipt **\".center(40))\n",
    "            print(40*\"=\")\n",
    "            print(\"Item\",7*\" \",\"Quant\",\",\",\"U.Price\",2*\" \",\"Sub total Price\")\n",
    "            \n",
    "            for x in demand_list:\n",
    "                print(x[0],(11-len(x[0]))*\" \",\n",
    "                      (5-len(str(x[1])))*\" \",x[1],\n",
    "                      (8-len(str(x[1])))*\" \",x[2],\n",
    "                      (9-len(str(x[1])))*\" \",x[3])\n",
    "            print(40*\"-\")\n",
    "        show_dict()\n",
    "        \n",
    "\n",
    "\n",
    "# Home Work: add new item\n",
    "    \n",
    "#show_dict()\n"
   ]
  },
  {
   "cell_type": "code",
   "execution_count": 12,
   "id": "9d14d4db-887d-40a2-ab71-13f914751b5e",
   "metadata": {},
   "outputs": [
    {
     "name": "stdin",
     "output_type": "stream",
     "text": [
      "Enter an integer:  6\n"
     ]
    },
    {
     "name": "stdout",
     "output_type": "stream",
     "text": [
      "The number is even.\n"
     ]
    }
   ],
   "source": [
    "# Take an integer input from the user\n",
    "number = int(input(\"Enter an integer: \"))\n",
    "\n",
    "# Check if the number is zero, even, or odd\n",
    "if number == 0:\n",
    "    print(\"The number is zero.\")\n",
    "elif number % 2 == 0:\n",
    "    print(\"The number is even.\")\n",
    "else:\n",
    "    print(\"The number is odd.\")\n"
   ]
  },
  {
   "cell_type": "code",
   "execution_count": null,
   "id": "2a7b23bb-a0a9-4f50-b1e9-6b7bbb7f7087",
   "metadata": {},
   "outputs": [],
   "source": []
  }
 ],
 "metadata": {
  "kernelspec": {
   "display_name": "Python 3 (ipykernel)",
   "language": "python",
   "name": "python3"
  },
  "language_info": {
   "codemirror_mode": {
    "name": "ipython",
    "version": 3
   },
   "file_extension": ".py",
   "mimetype": "text/x-python",
   "name": "python",
   "nbconvert_exporter": "python",
   "pygments_lexer": "ipython3",
   "version": "3.13.0"
  }
 },
 "nbformat": 4,
 "nbformat_minor": 5
}
